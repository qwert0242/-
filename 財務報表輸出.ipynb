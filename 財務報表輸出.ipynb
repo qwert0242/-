{
 "cells": [
  {
   "cell_type": "code",
   "execution_count": 1,
   "metadata": {},
   "outputs": [],
   "source": [
    "# -*- coding: utf-8 -*-\n",
    "import requests\n",
    "import pandas as pd\n",
    "import numpy as np\n",
    "import csv\n",
    "import time, datetime,os\n",
    "from selenium import webdriver\n",
    "from selenium.webdriver.support.ui import Select\n",
    "\n",
    "#显示所有列\n",
    "pd.set_option('display.max_columns', None)\n",
    "#显示所有行\n",
    "pd.set_option('display.max_rows', None)\n"
   ]
  },
  {
   "cell_type": "code",
   "execution_count": 2,
   "metadata": {},
   "outputs": [],
   "source": [
    "#多項篩選條件\n",
    "\n",
    "id_list=['1234']\n",
    "season=['Q','Y']        #Q(季表)、Y(年表)、A(季累積)\n"
   ]
  },
  {
   "cell_type": "code",
   "execution_count": 3,
   "metadata": {},
   "outputs": [
    {
     "ename": "NameError",
     "evalue": "name 'crawl_financial_Report' is not defined",
     "output_type": "error",
     "traceback": [
      "\u001b[1;31m---------------------------------------------------------------------------\u001b[0m",
      "\u001b[1;31mNameError\u001b[0m                                 Traceback (most recent call last)",
      "\u001b[1;32m<ipython-input-3-e748b32617b3>\u001b[0m in \u001b[0;36m<module>\u001b[1;34m\u001b[0m\n\u001b[0;32m     16\u001b[0m \u001b[1;33m\u001b[0m\u001b[0m\n\u001b[0;32m     17\u001b[0m \u001b[1;31m#排序\u001b[0m\u001b[1;33m\u001b[0m\u001b[1;33m\u001b[0m\u001b[1;33m\u001b[0m\u001b[0m\n\u001b[1;32m---> 18\u001b[1;33m \u001b[0mcols\u001b[0m\u001b[1;33m=\u001b[0m\u001b[0mcrawl_financial_Report\u001b[0m\u001b[1;33m(\u001b[0m\u001b[0msheetA\u001b[0m\u001b[1;33m)\u001b[0m\u001b[1;33m.\u001b[0m\u001b[0mcolumns\u001b[0m\u001b[1;33m[\u001b[0m\u001b[1;36m1\u001b[0m\u001b[1;33m:\u001b[0m\u001b[1;33m]\u001b[0m\u001b[1;33m[\u001b[0m\u001b[1;33m:\u001b[0m\u001b[1;33m:\u001b[0m\u001b[1;33m-\u001b[0m\u001b[1;36m1\u001b[0m\u001b[1;33m]\u001b[0m\u001b[1;33m\u001b[0m\u001b[1;33m\u001b[0m\u001b[0m\n\u001b[0m\u001b[0;32m     19\u001b[0m \u001b[0mcols\u001b[0m\u001b[1;33m=\u001b[0m\u001b[0mcols\u001b[0m\u001b[1;33m.\u001b[0m\u001b[0minsert\u001b[0m\u001b[1;33m(\u001b[0m\u001b[1;36m0\u001b[0m\u001b[1;33m,\u001b[0m\u001b[1;34m'期別'\u001b[0m\u001b[1;33m)\u001b[0m\u001b[1;33m\u001b[0m\u001b[1;33m\u001b[0m\u001b[0m\n\u001b[0;32m     20\u001b[0m \u001b[0mfinancial_Report\u001b[0m \u001b[1;33m=\u001b[0m \u001b[0mcrawl_financial_Report\u001b[0m\u001b[1;33m(\u001b[0m\u001b[0msheetA\u001b[0m\u001b[1;33m)\u001b[0m\u001b[1;33m.\u001b[0m\u001b[0mix\u001b[0m\u001b[1;33m[\u001b[0m\u001b[1;33m:\u001b[0m\u001b[1;33m,\u001b[0m\u001b[0mcols\u001b[0m\u001b[1;33m]\u001b[0m\u001b[1;33m\u001b[0m\u001b[1;33m\u001b[0m\u001b[0m\n",
      "\u001b[1;31mNameError\u001b[0m: name 'crawl_financial_Report' is not defined"
     ]
    }
   ],
   "source": [
    "#單項篩選\n",
    "\n",
    "stock='2330'\n",
    "s='Y'  #Q(季表)、Y(年表)、A(季累積)\n",
    "\n",
    "\n",
    "BalanceSheetURL = \"http://jsjustweb.jihsun.com.tw/z/zc/zcp/zcpa/zcpa0.djhtm?b=\"+s+\"&a=\"+stock;    # 資產負債表\n",
    "ProfitAndLoseURL = \"http://jsjustweb.jihsun.com.tw/z/zc/zcq/zcq0.djhtm?b=\"+s+\"&a=\"+stock;   # 損益表\n",
    "CashFlowStatementURL = \"http://jsjustweb.jihsun.com.tw/z/zc/zc3/zc30.djhtm?b=\"+s+\"&a=\"+stock; # 現金流量表\n",
    "FinancialRatioURL= \"http://jsjustweb.jihsun.com.tw/z/zc/zcr/zcr0.djhtm?b=\"+s+\"&a=\"+stock;   #法定比率\n",
    "\n",
    "#輸入要查詢的報表\n",
    "sheetA= BalanceSheetURL\n",
    "\n",
    "\n",
    "\n",
    "#排序\n",
    "cols=crawl_financial_Report(sheetA).columns[1:][::-1]\n",
    "cols=cols.insert(0,'期別')\n",
    "financial_Report = crawl_financial_Report(sheetA).ix[:,cols]\n",
    "\n",
    "financial_Report"
   ]
  },
  {
   "cell_type": "code",
   "execution_count": 4,
   "metadata": {},
   "outputs": [],
   "source": [
    "# 爬取目標網站\n",
    "\n",
    "def crawl_financial_Report(url): \n",
    "    \n",
    "    form_data = {\n",
    "    'stock_number':stock_number,\n",
    "    'selB':season,\n",
    "        \n",
    "            }\n",
    "\n",
    "    r = requests.post(url,form_data)\n",
    "    html_df = pd.read_html(r.text,encoding='utf-8')\n",
    "    html_df=html_df[2].fillna(\"\")\n",
    "    html_df.columns=html_df.iloc[0]\n",
    "    html_df=html_df.drop([0,1],axis=0)\n",
    "    \n",
    "    return html_df"
   ]
  },
  {
   "cell_type": "code",
   "execution_count": null,
   "metadata": {},
   "outputs": [],
   "source": [
    "crawl_financial_Report(BalanceSheetURL)"
   ]
  },
  {
   "cell_type": "markdown",
   "metadata": {},
   "source": [
    "代入  \n",
    "filename1  查詢資產負債表\n",
    "\n",
    "filename2  查詢損益表\n",
    "\n",
    "filename3  查詢現金流量表\n",
    "\n",
    "*write_csv()\n",
    "     "
   ]
  },
  {
   "cell_type": "code",
   "execution_count": 39,
   "metadata": {},
   "outputs": [],
   "source": [
    "#輸入財務報表\n",
    "\n",
    "\n",
    "def write_csv(stock_number,sea,directory,filename) :\n",
    "\n",
    "    \n",
    "    sid = str(stock_number)\n",
    "    season_A= str(sea)                         #Q(季表)、Y(年表)、A(季累積)\n",
    "    #sheet_A= str(she)\n",
    "    writefile = directory + filename               #set output file name\n",
    "    da=str()\n",
    "    \n",
    "    file = open(writefile,'w+',encoding='utf-8', newline=\"\") #open csv\n",
    "    \n",
    "    BalanceSheetURL = \"http://jsjustweb.jihsun.com.tw/z/zc/zcp/zcpa/zcpa0.djhtm?b=\"+sea+\"&a=\"+stock_number;    # 資產負債表\n",
    "    ProfitAndLoseURL = \"http://jsjustweb.jihsun.com.tw/z/zc/zcq/zcq0.djhtm?b=\"+sea+\"&a=\"+stock_number;     # 損益表\n",
    "    CashFlowStatementURL = \"http://jsjustweb.jihsun.com.tw/z/zc/zc3/zc30.djhtm?b=\"+sea+\"&a=\"+stock_number; # 現金流量表\n",
    "    FinancialRatioURL= \"http://jsjustweb.jihsun.com.tw/z/zc/zcr/zcr0.djhtm?b=\"+sea+\"&a=\"+stock_number;    #法定比率\n",
    "    \n",
    "    data = [BalanceSheetURL,ProfitAndLoseURL]\n",
    "    \n",
    "    for dat in data:\n",
    "    #outputWriter = csv.writer(file) #建立csv編譯模式\n",
    "        da=str(dat)  \n",
    "        creatfile1= crawl_financial_Report(da).T.to_csv(file,encoding='utf-8',header = False)\n",
    "        return da  \n",
    "    #creatfile2= crawl_financial_Report(ProfitAndLoseURL).T.to_csv(filename2,encoding='utf-8',header = False)\n",
    "    #creatfile3 crawl_financial_Report(CashFlowStatementURL).T.to_excel(filename3,encoding='utf-8',header = False)\n",
    "    \n",
    "    #file.write(str(crawl_financial_Report(BalanceSheetURL))) \n",
    "    \n",
    "    \n",
    "    #for html_df in (crawl_financial_Report(sheet)) :\n",
    "        #outputWriter.writerows(html_df)\n",
    "     \n",
    "    #outputWriter.writerows([crawl_financial_Report(ProfitAndLoseURL)])        \n",
    "    #outputWriter.writerows([crawl_financial_Report(CashFlowStatementURL)])\n",
    "    \n",
    "    \n",
    "    file.close()\n",
    "  \n"
   ]
  },
  {
   "cell_type": "code",
   "execution_count": 40,
   "metadata": {},
   "outputs": [
    {
     "data": {
      "text/plain": [
       "'http://jsjustweb.jihsun.com.tw/z/zc/zcp/zcpa/zcpa0.djhtm?b=Y&a=1234'"
      ]
     },
     "execution_count": 40,
     "metadata": {},
     "output_type": "execute_result"
    }
   ],
   "source": [
    " write_csv(stock_number,sea,directory,filename) "
   ]
  },
  {
   "cell_type": "code",
   "execution_count": 6,
   "metadata": {},
   "outputs": [],
   "source": [
    "#建立資料夾\n",
    "\n",
    "def makedirs (stock_number):\n",
    "    sid = str(stock_number)\n",
    "    directory = r'C:/Users/wayne/Desktop/ABC'+'/'+sid\n",
    "    if not os.path.isdir(directory):\n",
    "        os.makedirs (directory)  # os.makedirs able to create multi folders"
   ]
  },
  {
   "cell_type": "code",
   "execution_count": 41,
   "metadata": {},
   "outputs": [],
   "source": [
    "#輸出檔案\n",
    "sheet=['BalanceSheetURL']\n",
    "\n",
    "\n",
    "for stock_number in id_list:\n",
    "    for sea in season:\n",
    "        for she in sheet:\n",
    "            sid = str(stock_number)\n",
    "            season_A= str(sea)\n",
    "            sheet_A= str(she)\n",
    "            directory = r'C:/Users/wayne/Desktop/ABC'+'/'+sid+'/'     #setting directory\n",
    "\n",
    "            filename = str(stock_number)+str(sea)+str(she)+'.csv'         #setting file name\n",
    "            #filename2 =str(stock_number)+str(sea)+'_ProfitAndLoseURL'+'.csv'\n",
    "            #filename3 =str(stock_number)+str(sea)+'_ ProfitAndLoseURL'+'.xlsx'\n",
    "\n",
    "            makedirs (stock_number)                  #create directory function \n",
    "            write_csv (stock_number,sea,directory, filename)    # write files into CSV\n",
    "            \n",
    "           \n",
    "            time.sleep(1)"
   ]
  },
  {
   "cell_type": "code",
   "execution_count": 19,
   "metadata": {},
   "outputs": [
    {
     "data": {
      "text/plain": [
       "''"
      ]
     },
     "execution_count": 19,
     "metadata": {},
     "output_type": "execute_result"
    }
   ],
   "source": [
    "write_csv (stock_number,sea,directory, filename)"
   ]
  },
  {
   "cell_type": "code",
   "execution_count": null,
   "metadata": {
    "scrolled": true
   },
   "outputs": [],
   "source": [
    "#擷取欄\n",
    "#crawl_financial_Report(sheet)['期別']\n",
    "\n",
    "#擷取列\n",
    "#crawl_financial_Report(sheet).loc[:2]\n",
    "\n",
    "#顯示五列資訊\n",
    "#crawl_financial_Report(sheet).ix[:,0:5]"
   ]
  },
  {
   "cell_type": "code",
   "execution_count": null,
   "metadata": {},
   "outputs": [],
   "source": [
    "#使用Pandas爬蟲\n",
    "\n",
    "#BalanceSheetURL= pd.read_html(\"http://jsjustweb.jihsun.com.tw/z/zc/zcp/zcpa/zcpa_\"+stock_number+\".djhtm\") # 資產負債表\n",
    "#ProfitAndLoseURL = pd.read_html(\"http://jsjustweb.jihsun.com.tw/z/zc/zcq/zcq_\"+stock_number+\".djhtm\")   # 損益表\n",
    "#CashFlowStatementURL = pd.read_html(\"http://jsjustweb.jihsun.com.tw/z/zc/zc3/zc3_\"+stock_number+\".djhtm\") # 現金流量表"
   ]
  }
 ],
 "metadata": {
  "kernelspec": {
   "display_name": "Python 3",
   "language": "python",
   "name": "python3"
  },
  "language_info": {
   "codemirror_mode": {
    "name": "ipython",
    "version": 3
   },
   "file_extension": ".py",
   "mimetype": "text/x-python",
   "name": "python",
   "nbconvert_exporter": "python",
   "pygments_lexer": "ipython3",
   "version": "3.6.8"
  }
 },
 "nbformat": 4,
 "nbformat_minor": 2
}
